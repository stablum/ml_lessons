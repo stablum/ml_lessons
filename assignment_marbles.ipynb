{
 "cells": [
  {
   "cell_type": "markdown",
   "id": "e3932e86-4ae2-40ef-b4bb-1af6ea4033db",
   "metadata": {},
   "source": [
    "Assignment\n",
    "----------\n",
    " - part 1: make a sampling algorithm from a bowl of marbles that have different colors and different counts\n",
    " - part 2: explain why you can write a sampling algorithm without the need of normalization (sum to 1)\n",
    " - part 3: apply this to a discretization of the domain of a normal distribution to have an approximation of the sampling to a normal distribution\n",
    " - part 4: how can you increase the precision of the sampling to the normal distribution?"
   ]
  },
  {
   "cell_type": "code",
   "execution_count": 4,
   "id": "0e7e0d96-fbef-4801-8b01-74094143b93f",
   "metadata": {},
   "outputs": [
    {
     "name": "stdout",
     "output_type": "stream",
     "text": [
      "<module 'numpy' from 'C:\\\\Users\\\\Administrator\\\\scoop\\\\apps\\\\miniconda3\\\\current\\\\Lib\\\\site-packages\\\\numpy\\\\__init__.py'> <module 'matplotlib.pyplot' from 'C:\\\\Users\\\\Administrator\\\\scoop\\\\apps\\\\miniconda3\\\\current\\\\Lib\\\\site-packages\\\\matplotlib\\\\pyplot.py'>\n"
     ]
    }
   ],
   "source": [
    "import numpy as np\n",
    "import random\n",
    "from matplotlib import pyplot as plt\n",
    "print(np, plt)"
   ]
  },
  {
   "cell_type": "markdown",
   "id": "a23f871a-fcaf-4c15-8353-d99366fa715d",
   "metadata": {},
   "source": [
    "part 1\n",
    "------"
   ]
  },
  {
   "cell_type": "code",
   "execution_count": 5,
   "id": "cdc306c3-733c-4b41-a453-85b43fb068b2",
   "metadata": {},
   "outputs": [
    {
     "name": "stdout",
     "output_type": "stream",
     "text": [
      "{'red': np.float64(0.5882352941176471), 'blue': np.float64(0.23529411764705882), 'green': np.float64(0.0196078431372549), 'yellow': np.float64(0.1568627450980392)}\n"
     ]
    },
    {
     "data": {
      "text/plain": [
       "<BarContainer object of 4 artists>"
      ]
     },
     "execution_count": 5,
     "metadata": {},
     "output_type": "execute_result"
    },
    {
     "data": {
      "image/png": "[encoded data removed]",
      "text/plain": [
       "<Figure size 640x480 with 1 Axes>"
      ]
     },
     "metadata": {},
     "output_type": "display_data"
    }
   ],
   "source": [
    "marbles_counts = {\n",
    "    'red': 30,\n",
    "    'blue': 12,\n",
    "    'green': 1,\n",
    "    'yellow': 8\n",
    "}\n",
    "tot = np.sum(list(marbles_counts.values()))\n",
    "probs = { color: count/tot for color, count in marbles_counts.items() }\n",
    "print(probs)\n",
    "colors = list(probs.keys())\n",
    "values = list(probs.values())\n",
    "\n",
    "plt.bar(colors, values, color=colors)\n"
   ]
  },
  {
   "cell_type": "code",
   "execution_count": 24,
   "id": "8b3f52f7-8c2c-4e11-918f-f5ca1f7c44d3",
   "metadata": {},
   "outputs": [],
   "source": [
    "def choice(labels, counts):\n",
    "    counts_sum = sum(counts)\n",
    "    rand_int = random.randint(1, counts_sum)\n",
    "    acc = 0\n",
    "    for label, count in zip(labels, counts):\n",
    "        acc += count\n",
    "        if rand_int <= acc:\n",
    "            return label\n",
    "\n",
    "sample = choice(colors, marbles_counts.values())\n"
   ]
  },
  {
   "cell_type": "code",
   "execution_count": 28,
   "id": "6f1d8e9d-6bb1-47c7-9596-b960e4747a30",
   "metadata": {},
   "outputs": [
    {
     "name": "stdout",
     "output_type": "stream",
     "text": [
      "🟡🔴🟡🔵🔵🟡🔴🔵🔵🔴🔴🔴🟡🔴🔴🟢🟡🔴🔵🔵🔴🔴🔴🔴🔴🟡🔴🔴🟡🔴🔵🔴🟡🔴🔴🔵🔴🟡🔵🔴🔴🔴🔴🔴🔴🟡🔴🔴🔴🔵🔴🔵🔴🔵🔴🔵🔴🔴🔴🟢🔴🔴🔵🔴🟡🔴🔴🔵🔴🔴🔴🔴🔴🟡🟡🔴🔴🔴🔵🔴🔵🔴🔴🔴🟡🟡🔴🔴🔵🔵🔴🔴🟡🔵🔴🔴🔴🔴🔵🔴🟡🔴🟡🟡🟡🟡🔵🔴🔴🔴🔵🔵🔴🔴🔵🔵🔴🔴🔴🟡🔴🔴🟢🔴🔴🔴🔵🔴🔴🔵🔴🔴🔵🟡🔵🟡🔵🔴🔴🔴🟢🔴🔴🔴🔵🔴🔵🔵🔵🔴🔴🔴🔴🔵🔵🔴🔴🔴🔵🔵🟡🔴🔴🔵🔴🔵🔵🔵🔵🔴🔴🔴🔴🔴🔵🔵🟡🔴🟢🔵🔵🔵🟡🟡🔵🔴🔴🔴🔴🔵🟡🔴🔴🔴🔴🔴🔵🔴🔴🔴🔴🔵🔴🔴🔴🔴🔵🔵🔴🟡🔴🔴🔴🔴🔴🟡🔵🔴🔴🔴🔴🔵🔵🔴🔵🔴🔴🔴🔴🔴🔴🔴🟡🔴🔴🔴🔴🔴🔴🔵🔴🟡🟡🔴🔵🔴🔴🔵🔴🔵🟡🔴🔴🔴🔵🔴🔵🔵🔵🔵🔴🔵🔴🟡🔵🔴🔴🔴🔵🔵🔴🔵🟡🔴🔵🔴🔵🔴🔴🔴🔴🔴🟡🟡🔴🔴🟡🔴🔴🟡🔵🔵🔴🔴🔴🔴🔴🔴🔴🔵🔴🔵🔴🔴🔴🔴🟡🔴🔴🔴🔴🔵🔴🔵🔴🟡🔴🔴🔵🔵🟡🔵🔵🟡🔵🟡🔴🔵🔴🔵🔴🔵🔵🔵🟡🔴🟡🔵🔴🔵🔵🔴🔴🔴🔴🔴🔴🟢🔴🔴🔴🟡🔴🔵🔴🔵🔵🔴🟢🔴🔴🔴🟡🟢🔵🔴🔴🔴🔴🔵🔴🔴🔵🔴🔴🔴🟡🔴🔴🔴🔴🔵🔴🟡🔵🔴🔵🟡🔵🔴🔴🔴🔵🔴🔴🔴🔴🔴🔵🟡🟡🔴🟡🟡🔴🔵🔴🟡🔵🔵🔴🔵🔴🔴🔵🔴🟡🔴🔵🔴🟡🔴🔵🔴🔴🔴🔵🔴🔵🔵🔵🔴🔴🔴🔴🔵🔵🔴🔵🟢🔵🔴🔴🔴🟡🔵🔴🔵🔴🔵🔵🔴🔴🔴🔵🔴🔴🔵🔵🔵🔴🟡🟡🔵🔴🔵🔵🔴🔵🔴🔴🟡🔴🟡🔵🔴🔵🔴🟡🔴🔴🟡🔴🔵🔵🔵🟡🔴🔵🔴🔴🔵🔴🔴🟡🟡🔴🔵🔴🟢🔵🔴🔴🔵🔴🔵🔴🔴🔵🟡🔴🟡🔴🟡🔴🔴🔴🔴🔴🔴🔴🔴🔴🟡🔴🔴🔴🔴🔴🔵🔴🔵🔵🟡🔵🔴🔴🟡🔵🔴🔵🔴🔴🟢🔴🔴🔴🟡🔴🔴🔴🔴🔵🟡🔴🔴🔴🔴🔴🔴🔴🔵🔴🟡🔴🔴🔴🟡🔵🔴🔵🔴🔴🔵🔴🟡🟡🔵🔴🔴🔵🟡🔴🟡🔴🔴🔴🔴🔴🔵🔵🔴🔴🔵🔴🔴🔴🔴🔵🔴🔵🔴🔵🔵🔴🔴🔴🟡🟡🔵🔴🔵🔵🔴🔵🔴🔴🔴🔴🔴🔴🔵🔴🔴🔴🟡🔴🟢🔴🔵🔴🟡🟡🔵🔴🔴🔴🔴🔴🔴🔵🟡🔴🟡🟡🔴🟡🔴🔴🟡🟡🔴🟡🟡🔴🔵🔴🔴🔴🔵🔴🔴🔵🟡🔵🔴🔴🔴🟡🔵🔴🔴🔴🔴🔴🔵🟡🔴🔴🟡🔵🔵🔴🔵🔵🟡🔵🔵🔴🔴🔴🔵🔴🔵🔵🔴🔵🔵🔴🔴🔵🔴🔵🟡🔴🔵🔵🟡🔵🔵🔴🟡🔵🔴🔴🔵🟡🔴🔵🔴🔴🔴🔴🔴🔴🔴🔵🔴🔴🔴🔴🔵🟢🔵🔵🔴🔵🟡🟡🔴🔴🔴🔴🔴🔵🔴🔴🔵🔴🔴🔴🔴🔴🔴🔴🔵🔴🔴🔵🔵🟡🟡🔴🔴🟡🔵🔵🔴🔵🔴🔴🔴🔴🔴🔴🔵🔴🔵🔴🔴🔴🔴🟡🔴🔴🔴🔵🔵🔴🔴🔴🔵🔴🟡🔴🔴🔴🔵🔵🔴🟡🔵🔵🔵🔴🔴🔵🔴🔴🔵🟡🔵🔵🟡🔴🔵🔴🔴🔴🔴🟡🔴🔵🔵🟡🔴🔵🔴🔴🔴🔵🔴🟡🔴🟡🔴🟢🔵🔴🔴🔴🔴🔴🟡🔴🔴🔴🔴🔵🔵🔴🔴🔴🔴🟢🔵🔴🟡🔴🔴🔴🔵🔴🔴🔴🔴🔴🟡🔴🔴🟡🔵🔴🔵🔴🟡🔵🔴🔵🔴🟡🔵🟡🔴🔴🔴🔴🔵🔴🔴🔴🔴🟡🔴🔵🔵🔴🔵🔴🔴🟡🔴🔴🔵🔴🔴🔴🔴🟡🔵🔴🔴🟡🔴🟡🔴🟡🟡🔴🔵🔴🔵🔴🔴🔵🔴🔴🔵🔴🔴🔴🔵🔵🔴🔴🔴🔴🔵🔵🔴🔴🟡🔵🔴🔴🔴🔵🔵🔴🔵🔵🟡🔵🔴🔴🟡🔵🔴🔵🔴🟡🟡🔴🔴🟡🔴🔴🔴🔴🔵🟡🔵🔴🔵🔴🔵🟡🟡🔴🔵🔴🔴🔵🔵🔴🟡🔴🔴🔴🔴🔵🔵🔴🔵🟡🔵🟡🔵🔴🔴"
     ]
    }
   ],
   "source": [
    "color_balls = {\n",
    "    'red': '🔴',\n",
    "    'blue': '🔵',\n",
    "    'green': '🟢',\n",
    "    'yellow': '🟡'\n",
    "}\n",
    "for _ in range(1000):\n",
    "    sample = choice(colors, marbles_counts.values())\n",
    "    print(color_balls[sample],end='')"
   ]
  },
  {
   "cell_type": "markdown",
   "id": "548f0b25-b989-4e9d-a666-ccb17f6b1d1b",
   "metadata": {},
   "source": [
    "part 2\n",
    "------"
   ]
  },
  {
   "cell_type": "code",
   "execution_count": 8,
   "id": "d75e07fd-3953-4a82-a589-d9fee1f168a3",
   "metadata": {},
   "outputs": [
    {
     "name": "stdout",
     "output_type": "stream",
     "text": [
      "tot 51\n",
      "10 38 39 45 45 36 18 47 27 46 15 50 39 17 29 25 29 8 4 16 9 16 31 13 38 50 16 45 27 44 18 5 15 11 4 13 20 22 31 23 36 12 42 22 14 8 51 4 45 18 4 9 34 3 2 34 37 30 30 20 18 32 43 8 29 10 51 28 18 15 1 16 28 19 28 23 27 33 33 6 32 26 30 40 44 35 20 12 49 28 24 31 5 46 26 38 42 1 13 33 "
     ]
    }
   ],
   "source": [
    "print('tot',tot)\n",
    "for _ in range(100):\n",
    "    print(random.randint(1,tot),end=' ')"
   ]
  },
  {
   "cell_type": "code",
   "execution_count": 9,
   "id": "bbf71d1d-22e6-490a-b823-1fabfb9a8b55",
   "metadata": {},
   "outputs": [
    {
     "name": "stdout",
     "output_type": "stream",
     "text": [
      "🔴🔴🔴🔴🔵🔴🔴🔴🔵🔴🔵🔴🟡🔵🔵🔴🟡🔴🔵🔴🔵🔴🟡🔵🔵🟡🔴🟡🔴🟡🟡🔴🔴🔵🔴🔵🔴🔴🔴🟢🔵🔴🔴🔴🔵🟡🔴🔵🔴🔵🟡🔵🔴🟡🔴🔴🔵🔵🔴🟡🔴🔴🔵🔴🔴🟡🔴🔴🟡🔴🔵🔴🔴🔴🔴🔴🟡🔵🟡🟡🔵🔴🟡🔴🔵🟡🔴🔵🔵🟡🔴🔴🔴🔴🔴🔵🔴🔴🔴🔴🔵🔴🟡🔴🔴🔴🔴🔴🔴🟡🔴🔴🔴🔵🟡🔴🔵🔴🔴🔴🔴🔴🔴🔴🔵🔴🔴🔴🔵🔵🔴🔴🔵🔵🔴🔵🔴🔴🟡🔴🔵🔵🟡🔵🔵🔴🔴🟡🔵🔵🔴🔴🟡🔴🟡🔴🔴🔴🔴🔴🔴🟡🔵🔵🟡🔴🔴🔴🔴🔵🟡🟡🔴🔴🔴🔴🟡🟢🔵🔵🟡🔴🔴🔵🔴🔴🔵🔵🔴🔴🔵🔴🔴🔴🔴🔴🔴🔴🔴🟡🟡🔴🔵🔴🔴🟢🔴🔴🔴🟡🔴🟡🔴🔴🔴🔴🔴🟢🔴🔵🔵🔴🔴🔴🔵🔴🔵🟡🔴🔴🔴🔴🔵🟡🔵🔵🟡🔵🔵🔴🔵🔴🟡🟡🔴🔵🔴🔵🔵🔵🟡🔵🟡🔴🔴🟢🔴🔴🔴🔴🔵🔴🔴🔴🔴🔵🔴🔴🔴🟡🟡🔵🔴🟡🔴🔴🔴🔴🔴🔴🔴🟡🔵🔴🔴🔵🟡🔴🔴🔴🔴🔴🔴🟡🔴🔴🔴🟡🔴🔴🔴🔴🟡🔴🔴🔴🔵🟡🔴🔵🟡🔴🔴🔴🔴🔴🔴🔴🔵🔵🟢🔴🔴🔵🔴🔴🔴🔴🔴🟢🔵🔴🟡🔴🔵🔵🔴🟡🔵🔴🔴🔴🟢🔵🟡🟡🔵🔵🟡🔴🟡🟡🔴🔴🔴🔴🟡🔵🔴🔴🔴🟢🔴🔵🟡🔴🟡🔵🔴🔵🔵🔵🔴🔴🔵🔴🔴🔵🟡🔵🔴🔴🔴🔴🔴🔴🔴🔵🟡🔴🔵🔴🔵🔵🟢🔵🔴🔵🔴🔵🟡🔴🔴🔵🟡🟡🔵🔴🟡🟡🔴🔴🔵🟡🔴🔴🔵🔴🔴🟡🔴🟡🔵🔴🔴🔵🔵🔵🔴🔴🔴🔴🔴🟡🔴🔴🔴🔴🔵🔴🔴🔴🔴🔴🔴🔴🟡🔴🔴🔴🟢🟡🔴🟡🟡🔴🟡🟡🟡🔴🔴🟡🔴🔴🔴🔵🟡🔴🔴🔴🔵🟡🟢🔵🔵🟡🟡🔴🔴🟡🔴🔴🔴🔴🔴🔵🔴🔵🟢🔴🔴🔴🔴🔴🔴🔵🔴🟡🔵🟡🔵🟡🔴🔴🔴🔴🔵🔴🔵🔴🔴🟡🔴🔴🔵🔴🟡🔴🔴🔴🔴🔴🔴🔴🟡🔴🔵🔵🔴🟡🟡🟢🔵🔵🔴🔴🔵🟡🔴🔴🔴🔵🔴🔵🔴🔵🔴🔴🔴🔴🟡🔴🔴🔴🔴🔴🔴🔴🔴🔵🟡🔴🔵🔴🔵🟡🔴🔴🔴🔵🔴🔴🔴🔴🔴🔴🔴🔴🟢🔴🟡🔴🔴🟡🔵🟡🔴🟡🟡🔴🔴🔴🔴🔴🔵🔴🔴🔵🔴🔵🔵🔴🟡🔵🔵🔴🔴🔴🔴🔵🔴🔴🔴🔴🔴🔴🔵🔴🟢🔴🔴🔴🔴🔴🔵🔴🟡🔵🔴🟢🔴🔴🔴🟡🟡🔵🟡🔴🟡🔴🔴🔴🔴🔴🟡🔴🔴🟡🔴🔴🔴🔵🔴🔴🔴🟢🟡🔴🔴🔵🔴🔴🔴🟡🔴🟡🟡🟡🔴🟢🔴🔴🔴🔴🔵🟡🔴🔴🔵🔴🔵🔴🔵🔵🔴🔴🔴🔴🔴🔵🔴🟡🔴🟡🔴🔴🔴🟡🔴🟡🔴🔴🔴🔵🔴🟡🔴🔴🔴🔴🟡🟡🔴🔴🔴🔴🔵🔴🔴🔴🔴🟡🟡🔴🔴🟡🔵🔴🔴🔴🔵🔴🔴🟡🟡🔴🟡🟢🔴🔴🔵🔵🔴🔵🟢🔴🔴🔴🔴🟡🔴🔵🔴🔴🔵🔴🔴🟡🔵🔴🔴🔵🔴🔵🔴🔴🔴🔵🔵🔴🔴🟡🔴🔵🔵🟢🔴🔵🔴🔵🔴🔴🔴🔴🔴🔴🔵🔵🔴🔴🔵🟡🔵🔴🟡🔴🔴🟡🟡🔴🟡🔵🔴🔴🔵🔴🟡🔴🔴🟢🔴🔵🔵🔴🔴🔵🔵🔵🔵🔴🟢🔴🟡🔴🟡🟡🔴🔴🔵🔴🔴🔴🟡🔴🟡🔴🔵🟡🔴🔵🔴🔵🟡🔴🔵🔴🔴🔵🔴🔴🔵🔵🔵🔴🔴🟡🔵🔴🔴🔴🔵🔵🔴🟡🔴🔵🔵🟡🔵🔴🔴🟡🔵🔴🔴🔵🟡🔵🔴🔴🔴🔵🔴🔴🟡🟢🔴🔵🔵🔴🔵🟡🔴🔴🔴🔴🔴🔴🔴🔴🔴🔴🔵🟡🔴🔴🔴🟡🔴🔴🔵🟢🔴🟡🔴🔴🔴🔴🟢🔴🔴🔵🔵🔴🔵🟡🔴🔴🟡🟡🔴🔵🟡🔴🔵🟡🟡🔵🔵🔴🟡🔵🔴🔴🔴🔵🔵🟡🔵🔵🟡🔴🔴🟡🔴🟡🔵🔴🔵🔴🔴🔴🔴🔵🔴🔴🔵🔴🟡🟡🔵🔵🔵🔴🔵🔴🟢🔵🔵🔴🟡🔵🟡🔵🔵🔴🔴🔴🔴🔵🔵🔴🔴🔴🔵🟡🔴🟡🔴🔴"
     ]
    }
   ],
   "source": [
    "for _ in range(1000):\n",
    "    acc = 0\n",
    "    sample_num = random.randint(1,tot)\n",
    "    for color in marbles_counts.keys():\n",
    "        acc = acc + marbles_counts[color]\n",
    "        if sample_num <= acc:\n",
    "            print(color_balls[color], end='')\n",
    "            #print(sample_num, acc)\n",
    "            break\n"
   ]
  },
  {
   "cell_type": "markdown",
   "id": "b4b71452-ed04-4f50-81d0-4ce43b706711",
   "metadata": {},
   "source": [
    "part 3\n",
    "------"
   ]
  },
  {
   "cell_type": "code",
   "execution_count": 39,
   "id": "12259239-c416-406f-bc0f-b92ae65a6755",
   "metadata": {},
   "outputs": [
    {
     "name": "stdout",
     "output_type": "stream",
     "text": [
      "x [ 5.  6.  7.  8.  9. 10. 11. 12. 13. 14. 15.]\n",
      "p_x [0.00876415 0.02699548 0.0647588  0.12098536 0.17603266 0.19947114\n",
      " 0.17603266 0.12098536 0.0647588  0.02699548 0.00876415]\n",
      "5.0 : 0.00876415024678427\n",
      "6.0 : 0.02699548325659403\n",
      "7.0 : 0.06475879783294587\n",
      "8.0 : 0.12098536225957168\n",
      "9.0 : 0.17603266338214976\n",
      "10.0 : 0.19947114020071635\n",
      "11.0 : 0.17603266338214976\n",
      "12.0 : 0.12098536225957168\n",
      "13.0 : 0.06475879783294587\n",
      "14.0 : 0.02699548325659403\n",
      "15.0 : 0.00876415024678427\n",
      "----\n",
      "red : 0.5882352941176471\n",
      "blue : 0.23529411764705882\n",
      "green : 0.0196078431372549\n",
      "yellow : 0.1568627450980392\n"
     ]
    }
   ],
   "source": [
    "mu = 10\n",
    "sigma = 2\n",
    "\n",
    "x = np.linspace(5,15,11)\n",
    "\n",
    "def f(x,mu,sigma):\n",
    "    sigmasq = sigma**2.0\n",
    "    constant = 1/np.sqrt(2*np.pi*sigmasq)\n",
    "    distance = x - mu\n",
    "    return constant * np.exp(-(distance**2) / (2*sigmasq))\n",
    "    \n",
    "p_x = f(x,mu,sigma)\n",
    "print(\"x\",x)\n",
    "print(\"p_x\",p_x)\n",
    "for _x, _p_x in zip(x,p_x):\n",
    "    print(_x,\":\",_p_x)\n",
    "print('----')\n",
    "for _x, _p_x in probs.items():\n",
    "    print(_x,\":\",_p_x)\n"
   ]
  },
  {
   "cell_type": "code",
   "execution_count": 11,
   "id": "46b2a7fe-08a8-4931-ab17-ce0e26a69723",
   "metadata": {},
   "outputs": [
    {
     "name": "stdout",
     "output_type": "stream",
     "text": [
      "0.9945440541568077\n"
     ]
    },
    {
     "data": {
      "text/plain": [
       "<BarContainer object of 11 artists>"
      ]
     },
     "execution_count": 11,
     "metadata": {},
     "output_type": "execute_result"
    },
    {
     "data": {
      "image/png": "[encoded data removed]",
      "text/plain": [
       "<Figure size 640x480 with 1 Axes>"
      ]
     },
     "metadata": {},
     "output_type": "display_data"
    }
   ],
   "source": [
    "print(np.sum(p_x))\n",
    "plt.bar(x,p_x)"
   ]
  },
  {
   "cell_type": "code",
   "execution_count": 12,
   "id": "877f713e-4ee6-48cc-a7b2-11cf6a097541",
   "metadata": {},
   "outputs": [],
   "source": [
    "samples = []\n",
    "for _ in range(1000):\n",
    "    acc = 0\n",
    "    sample_p = random.random()\n",
    "    for curr_x,curr_p_x in zip(x, p_x):\n",
    "        acc = acc + curr_p_x\n",
    "        if sample_p <= acc:\n",
    "            #print(curr_x, end=' ')\n",
    "            samples.append(curr_x)\n",
    "            break\n"
   ]
  },
  {
   "cell_type": "code",
   "execution_count": 13,
   "id": "87b4cbc6-79bc-4ecf-8ab8-05906541d4d7",
   "metadata": {},
   "outputs": [
    {
     "data": {
      "image/png": "[encoded data removed]",
      "text/plain": [
       "<Figure size 640x480 with 1 Axes>"
      ]
     },
     "metadata": {},
     "output_type": "display_data"
    }
   ],
   "source": [
    "_ = plt.hist(samples, bins=x)"
   ]
  },
  {
   "cell_type": "code",
   "execution_count": null,
   "id": "8c2dce20-8949-4263-a128-be2209c60243",
   "metadata": {},
   "outputs": [],
   "source": []
  },
  {
   "cell_type": "markdown",
   "id": "f834af03",
   "metadata": {},
   "source": [
    "Part 4 solution\n",
    "===============\n",
    "To increase sampling precision for normal distribution:\n",
    "1. Use more discrete points (finer grid)\n",
    "2. Use continuous sampling methods like np.random.normal()"
   ]
  },
  {
   "cell_type": "code",
   "execution_count": 14,
   "id": "0998dce4-8b0e-4abf-b3cf-f20b9d240ace",
   "metadata": {},
   "outputs": [
    {
     "data": {
      "image/png": "[encoded data removed]",
      "text/plain": [
       "<Figure size 1200x400 with 3 Axes>"
      ]
     },
     "metadata": {},
     "output_type": "display_data"
    }
   ],
   "source": [
    "# Part 4: Increasing sampling precision\n",
    "\n",
    "# 1. Use finer grid (more points)\n",
    "x_fine = np.linspace(4, 16, 101)  # 101 points instead of 11\n",
    "p_x_fine = f(x_fine, mu, sigma)\n",
    "\n",
    "# Sample using finer grid\n",
    "samples_fine = []\n",
    "for _ in range(1000):\n",
    "    acc = 0\n",
    "    sample_p = random.random() * np.sum(p_x_fine)  # Works with unnormalized probabilities\n",
    "    for curr_x, curr_p_x in zip(x_fine, p_x_fine):\n",
    "        acc += curr_p_x\n",
    "        if sample_p <= acc:\n",
    "            samples_fine.append(curr_x)\n",
    "            break\n",
    "            \n",
    "# 2. Direct sampling (most precise)\n",
    "samples_direct = np.random.normal(mu, sigma, 1000)\n",
    "\n",
    "# Compare methods\n",
    "plt.figure(figsize=(12, 4))\n",
    "plt.subplot(1, 3, 1)\n",
    "plt.hist(samples, bins=10, density=True)\n",
    "plt.title('Original (11 points)')\n",
    "\n",
    "plt.subplot(1, 3, 2)\n",
    "plt.hist(samples_fine, bins=20, density=True)\n",
    "plt.title('Finer grid (101 points)')\n",
    "\n",
    "plt.subplot(1, 3, 3)\n",
    "plt.hist(samples_direct, bins=20, density=True)\n",
    "plt.title('Direct sampling')\n",
    "plt.tight_layout()"
   ]
  },
  {
   "cell_type": "markdown",
   "id": "28244af1",
   "metadata": {},
   "source": [
    "## Connection to Inverse CDF Method\n",
    "\n",
    "In the limit of infinitely fine discretization, our sampling approach converges to the **inverse CDF method** (also known as the inverse transform sampling).\n",
    "\n",
    "The cumulative distribution function (CDF) of a random variable $X$ is defined as:\n",
    "\n",
    "$$F_X(x) = P(X \\leq x) = \\int_{-\\infty}^{x} f_X(t) \\, dt$$\n",
    "\n",
    "where $f_X(t)$ is the probability density function (PDF).\n",
    "\n",
    "For a normal distribution with mean $\\mu$ and standard deviation $\\sigma$, the CDF is:\n",
    "\n",
    "$$F_X(x) = \\int_{-\\infty}^{x} \\frac{1}{\\sigma\\sqrt{2\\pi}} e^{-\\frac{(t-\\mu)^2}{2\\sigma^2}} \\, dt$$\n",
    "\n",
    "The inverse CDF method works as follows:\n",
    "1. Generate a uniform random number $u \\sim \\text{Uniform}(0,1)$\n",
    "2. Compute $x = F^{-1}(u)$ where $F^{-1}$ is the inverse of the CDF\n",
    "3. Return $x$ as the sampled value\n",
    "\n",
    "This method is exact because of the probability integral transform: if $X$ has CDF $F_X$, then $F_X(X) \\sim \\text{Uniform}(0,1)$. The converse is also true: if $U \\sim \\text{Uniform}(0,1)$, then $F_X^{-1}(U)$ has the same distribution as $X$."
   ]
  },
  {
   "cell_type": "markdown",
   "id": "28773795",
   "metadata": {},
   "source": [
    "## Discrete vs. Continuous Sampling\n",
    "\n",
    "Our discrete sampling approach from part 3 is actually a discrete approximation of the inverse CDF method. Consider a discretization with points $\\{x_1, x_2, ..., x_n\\}$ and corresponding probability masses $\\{p_1, p_2, ..., p_n\\}$:\n",
    "\n",
    "1. The discrete approximation of the CDF:\n",
    "   $$F_{\\text{discrete}}(x_i) = \\sum_{j=1}^{i} p_j$$\n",
    "\n",
    "2. As we increase the number of points, with step size $\\Delta x$, this converges to the continuous CDF:\n",
    "   $$\\lim_{n \\to \\infty, \\Delta x \\to 0} F_{\\text{discrete}}(x) = \\lim_{n \\to \\infty, \\Delta x \\to 0} \\sum_{j=1}^{i(x)} p_j = \\int_{-\\infty}^{x} \\frac{1}{\\sigma\\sqrt{2\\pi}} e^{-\\frac{(t-\\mu)^2}{2\\sigma^2}} \\, dt = F_X(x)$$\n",
    "   \n",
    "   where $i(x)$ is the index such that $x_i \\leq x < x_{i+1}$.\n",
    "\n",
    "3. Similarly, our discrete sampling approach converges to the continuous inverse CDF:\n",
    "   $$\\lim_{n \\to \\infty, \\Delta x \\to 0} F_{\\text{discrete}}^{-1}(u) = F_X^{-1}(u)$$\n",
    "\n",
    "For a normal distribution with parameters $\\mu$ and $\\sigma$, we can express this in terms of the standard normal CDF $\\Phi$:\n",
    "\n",
    "$$F_X(x) = \\Phi\\left(\\frac{x-\\mu}{\\sigma}\\right)$$\n",
    "\n",
    "And the inverse:\n",
    "\n",
    "$$F_X^{-1}(u) = \\mu + \\sigma \\cdot \\Phi^{-1}(u)$$\n",
    "\n",
    "The sampling precision increases as our discretization becomes finer because:\n",
    "\n",
    "$$\\lim_{n \\to \\infty} \\text{Discrete Sampling} \\approx \\mu + \\sigma \\cdot \\Phi^{-1}(U)$$\n",
    "\n",
    "where $U \\sim \\text{Uniform}(0,1)$.\n",
    "\n",
    "This is exactly what optimized algorithms in functions like `np.random.normal()` implement, which explains why they provide the most precise sampling."
   ]
  },
  {
   "cell_type": "code",
   "execution_count": null,
   "id": "c056a9ca",
   "metadata": {},
   "outputs": [],
   "source": [
    "## Visual Demonstration of Inverse CDF Method\n",
    "\n",
    "# Set up parameters\n",
    "mu = 10\n",
    "sigma = 2\n",
    "x_range = np.linspace(4, 16, 1000)\n",
    "pdf_values = f(x_range, mu, sigma)\n",
    "\n",
    "# Calculate the CDF by numerical integration \n",
    "cdf_values = np.cumsum(pdf_values) / np.sum(pdf_values)\n",
    "x_cdf = x_range.copy()\n",
    "\n",
    "# Create a function to interpolate the inverse CDF\n",
    "from scipy.interpolate import interp1d\n",
    "inverse_cdf = interp1d(cdf_values, x_cdf, bounds_error=False, fill_value=(x_cdf[0], x_cdf[-1]))\n",
    "\n",
    "# Generate random uniform samples\n",
    "np.random.seed(42)  # For reproducibility\n",
    "uniform_samples = np.random.uniform(0, 1, 5)  # Just a few samples for visualization\n",
    "\n",
    "# Create the visualization\n",
    "plt.figure(figsize=(12, 8))\n",
    "\n",
    "# 1. Plot the PDF\n",
    "plt.subplot(2, 2, 1)\n",
    "plt.plot(x_range, pdf_values, 'b-', lw=2)\n",
    "plt.fill_between(x_range, pdf_values, alpha=0.2)\n",
    "plt.title('PDF of Normal($\\mu=10, \\sigma=2$)')\n",
    "plt.xlabel('x')\n",
    "plt.ylabel('Probability Density')\n",
    "plt.grid(alpha=0.3)\n",
    "\n",
    "# 2. Plot the CDF\n",
    "plt.subplot(2, 2, 2)\n",
    "plt.plot(x_cdf, cdf_values, 'r-', lw=2)\n",
    "plt.title('CDF of Normal($\\mu=10, \\sigma=2$)')\n",
    "plt.xlabel('x')\n",
    "plt.ylabel('Cumulative Probability')\n",
    "plt.grid(alpha=0.3)\n",
    "\n",
    "# 3. Plot the inverse CDF (quantile function)\n",
    "plt.subplot(2, 2, 3)\n",
    "u_range = np.linspace(0.001, 0.999, 1000)\n",
    "x_from_u = inverse_cdf(u_range)\n",
    "plt.plot(u_range, x_from_u, 'g-', lw=2)\n",
    "plt.title('Inverse CDF (Quantile Function)')\n",
    "plt.xlabel('u (probability)')\n",
    "plt.ylabel('x (value)')\n",
    "plt.grid(alpha=0.3)\n",
    "\n",
    "# 4. Visual demonstration of sampling\n",
    "plt.subplot(2, 2, 4)\n",
    "plt.plot(u_range, x_from_u, 'g-', lw=2)\n",
    "plt.title('Inverse CDF Sampling Demonstration')\n",
    "plt.xlabel('u (uniform random number)')\n",
    "plt.ylabel('x (sampled value)')\n",
    "plt.grid(alpha=0.3)\n",
    "\n",
    "# Add the demonstration points\n",
    "for i, u in enumerate(uniform_samples):\n",
    "    x_val = inverse_cdf(u)\n",
    "    plt.plot([u, u], [x_range[0], x_val], 'k--', alpha=0.5)\n",
    "    plt.plot([0, u], [x_val, x_val], 'k--', alpha=0.5)\n",
    "    plt.scatter(u, x_val, color='blue', s=100, zorder=5, \n",
    "                label=f'u={u:.2f} → x={x_val:.2f}' if i==0 else \"\")\n",
    "\n",
    "plt.legend()\n",
    "plt.tight_layout()\n",
    "plt.show()"
   ]
  },
  {
   "cell_type": "code",
   "execution_count": null,
   "id": "f2fdb11c",
   "metadata": {},
   "outputs": [],
   "source": [
    "## Comparing Discretization Precision\n",
    "\n",
    "# Create different levels of discretization\n",
    "n_points = [5, 10, 50, 200]\n",
    "colors = ['red', 'orange', 'green', 'blue']\n",
    "discretizations = []\n",
    "\n",
    "plt.figure(figsize=(14, 10))\n",
    "\n",
    "# 1. Plot PDFs with different discretizations\n",
    "plt.subplot(2, 2, 1)\n",
    "for i, n in enumerate(n_points):\n",
    "    x_discr = np.linspace(4, 16, n)\n",
    "    pdf_discr = f(x_discr, mu, sigma)\n",
    "    pdf_discr = pdf_discr / np.sum(pdf_discr)  # Normalize\n",
    "    \n",
    "    plt.step(x_discr, np.append(pdf_discr, pdf_discr[-1]), where='post', \n",
    "             color=colors[i], lw=2, alpha=0.7, label=f'{n} points')\n",
    "    discretizations.append((x_discr, pdf_discr))\n",
    "\n",
    "# Add the continuous PDF for comparison\n",
    "plt.plot(x_range, pdf_values/np.sum(pdf_values), 'k--', lw=1, alpha=0.5, label='Continuous')\n",
    "plt.title('PDF Discretization Comparison')\n",
    "plt.xlabel('x')\n",
    "plt.ylabel('Probability')\n",
    "plt.legend()\n",
    "plt.grid(alpha=0.3)\n",
    "\n",
    "# 2. Plot CDFs with different discretizations\n",
    "plt.subplot(2, 2, 2)\n",
    "for i, (x_discr, pdf_discr) in enumerate(discretizations):\n",
    "    cdf_discr = np.cumsum(pdf_discr)\n",
    "    plt.step(x_discr, np.append(0, cdf_discr), where='post', \n",
    "             color=colors[i], lw=2, alpha=0.7, label=f'{n_points[i]} points')\n",
    "\n",
    "# Add the continuous CDF for comparison\n",
    "plt.plot(x_cdf, cdf_values, 'k--', lw=1, alpha=0.5, label='Continuous')\n",
    "plt.title('CDF Discretization Comparison')\n",
    "plt.xlabel('x')\n",
    "plt.ylabel('Cumulative Probability')\n",
    "plt.legend()\n",
    "plt.grid(alpha=0.3)\n",
    "\n",
    "# 3. Visual sampling demonstration with different discretizations\n",
    "plt.subplot(2, 2, 3)\n",
    "u_sample = 0.7  # Example uniform sample\n",
    "\n",
    "# Plot the continuous inverse CDF\n",
    "plt.plot(u_range, x_from_u, 'k--', lw=1, alpha=0.5, label='Continuous')\n",
    "\n",
    "# Plot the discrete inverse CDFs\n",
    "for i, (x_discr, pdf_discr) in enumerate(discretizations):\n",
    "    cdf_discr = np.cumsum(pdf_discr)\n",
    "    # For each probability level, find the corresponding x value\n",
    "    u_levels = np.linspace(0, 1, 100)\n",
    "    x_levels = []\n",
    "    \n",
    "    for u in u_levels:\n",
    "        # Find the first bin where CDF exceeds u\n",
    "        if u <= 0:\n",
    "            x_levels.append(x_discr[0])\n",
    "        else:\n",
    "            idx = np.argmax(cdf_discr >= u)\n",
    "            x_levels.append(x_discr[idx])\n",
    "    \n",
    "    plt.step(u_levels, x_levels, where='post', \n",
    "             color=colors[i], lw=2, alpha=0.7, label=f'{n_points[i]} points')\n",
    "\n",
    "# Show the sampling for a specific u\n",
    "x_sampled_cont = inverse_cdf(u_sample)\n",
    "plt.axvline(x=u_sample, color='gray', linestyle='--', alpha=0.5)\n",
    "plt.scatter(u_sample, x_sampled_cont, color='black', s=100, zorder=10)\n",
    "plt.text(u_sample + 0.02, x_sampled_cont, f'u={u_sample:.2f}', fontsize=12)\n",
    "\n",
    "# Mark the discrete samples for this u_sample\n",
    "for i, (x_discr, pdf_discr) in enumerate(discretizations):\n",
    "    cdf_discr = np.cumsum(pdf_discr)\n",
    "    idx = np.argmax(cdf_discr >= u_sample)\n",
    "    plt.scatter(u_sample, x_discr[idx], color=colors[i], s=80, zorder=9)\n",
    "    \n",
    "plt.title('Inverse CDF - Discretization Comparison')\n",
    "plt.xlabel('u (uniform random number)')\n",
    "plt.ylabel('x (sampled value)')\n",
    "plt.legend()\n",
    "plt.grid(alpha=0.3)\n",
    "\n",
    "# 4. Show discretization error\n",
    "plt.subplot(2, 2, 4)\n",
    "u_samples = np.linspace(0.05, 0.95, 10)\n",
    "errors = []\n",
    "\n",
    "for i, (x_discr, pdf_discr) in enumerate(discretizations):\n",
    "    cdf_discr = np.cumsum(pdf_discr)\n",
    "    error_points = []\n",
    "    \n",
    "    for u in u_samples:\n",
    "        # Continuous version (ground truth)\n",
    "        x_cont = inverse_cdf(u)\n",
    "        \n",
    "        # Discrete version\n",
    "        idx = np.argmax(cdf_discr >= u)\n",
    "        x_disc = x_discr[idx]\n",
    "        \n",
    "        # Calculate error\n",
    "        error_points.append(abs(x_disc - x_cont))\n",
    "    \n",
    "    errors.append(error_points)\n",
    "    plt.plot(u_samples, error_points, 'o-', color=colors[i], \n",
    "             label=f'{n_points[i]} points')\n",
    "\n",
    "plt.title('Sampling Error vs. Discretization')\n",
    "plt.xlabel('u (uniform random number)')\n",
    "plt.ylabel('Absolute Error')\n",
    "plt.legend()\n",
    "plt.grid(alpha=0.3)\n",
    "plt.yscale('log')\n",
    "\n",
    "plt.tight_layout()\n",
    "plt.show()"
   ]
  },
  {
   "cell_type": "code",
   "execution_count": null,
   "id": "469097fd",
   "metadata": {},
   "outputs": [],
   "source": []
  },
  {
   "cell_type": "code",
   "execution_count": null,
   "id": "08232009-02eb-4a82-822a-9eba4e770aa3",
   "metadata": {},
   "outputs": [],
   "source": []
  }
 ],
 "metadata": {
  "kernelspec": {
   "display_name": "Python 3 (ipykernel)",
   "language": "python",
   "name": "python3"
  },
  "language_info": {
   "codemirror_mode": {
    "name": "ipython",
    "version": 3
   },
   "file_extension": ".py",
   "mimetype": "text/x-python",
   "name": "python",
   "nbconvert_exporter": "python",
   "pygments_lexer": "ipython3",
   "version": "3.12.7"
  }
 },
 "nbformat": 4,
 "nbformat_minor": 5
}
