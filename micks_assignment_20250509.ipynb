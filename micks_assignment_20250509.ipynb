{
 "cells": [
  {
   "cell_type": "code",
   "execution_count": 1,
   "id": "6c36daa5-90e1-4c01-8c95-1a9680934620",
   "metadata": {},
   "outputs": [],
   "source": [
    "import random\n",
    "import math\n",
    "import matplotlib.pyplot as plt\n",
    "\n",
    "\n",
    "# Example height categories (bin centres in cm) and counts\n",
    "excats      = [150, 160, 170, 180, 190, 200, 210]\n",
    "excounts    = [ 10,  20,  60,  70,  60,  20,  10]\n",
    "excatcounts = dict(zip(excats, excounts))\n",
    "\n",
    "\n",
    "# Show example distribution\n",
    "def explot():\n",
    "\n",
    "    print(\"Example category counts:\", excatcounts)\n",
    "    plot_dist(category_counts, title=\"Example Categorical Distribution\", \\\n",
    "              xlabel=\"Height bin (cm)\")\n",
    "\n",
    "\n",
    "# General plotting function\n",
    "def plot_dist(d, title=\"\", xlabel=\"\", ylabel=\"Count\"):\n",
    "\n",
    "    keys = sorted(d.keys())\n",
    "    values = [d[k] for k in keys]\n",
    "    plt.bar(keys, values, width=5, align='center')\n",
    "    plt.title(title)\n",
    "    plt.xlabel(xlabel)\n",
    "    plt.ylabel(ylabel)\n",
    "    plt.show()\n",
    "\n",
    "    \n",
    "# cprob(catcounts)\n",
    "#   Compute cumulative probability thresholds.\n",
    "def cprob(catcounts):\n",
    "\n",
    "    csum = 0\n",
    "    bounds = {}\n",
    "    \n",
    "    total = sum(catcounts.values())\n",
    "    \n",
    "    for key, count in catcounts.items():\n",
    "        csum += count / total\n",
    "        bounds[key] = csum\n",
    "        \n",
    "    return bounds\n",
    "\n",
    "\n",
    "# draw(nr, catcounts)\n",
    "#    Draw nr of elements according to probability bounds.\n",
    "def draw(nr, catcounts):\n",
    "    \n",
    "    samp = {cat: 0 for cat in catcounts}  # Initialise counts to 0\n",
    "    bounds = cprob(catcounts)             # Compute cumulative probabilities once\n",
    "\n",
    "    for p in [random.uniform(0,1) for _ in range(nr)]:\n",
    "        for cat, bound in bounds.items():\n",
    "            if p <= bound:\n",
    "                samp[cat] += 1\n",
    "                break\n",
    "\n",
    "    return samp\n",
    "\n",
    "\n",
    "# rndints(nr, lo, hi)\n",
    "#   Generate nr of random integers between given lo and hi. UNIFORM DISTRIBUTION\n",
    "def rndints(nr, lo, hi):\n",
    "\n",
    "    res = []\n",
    "\n",
    "    for n in range(0, nr):\n",
    "        res.append(random.randint(lo, hi))\n",
    "\n",
    "    return res\n",
    "\n",
    "\n",
    "# bin(vals, width)\n",
    "#   Bin a list of numbers to the nearest number according to width.\n",
    "def bin(vals, width):\n",
    "\n",
    "    return [width * round(v/width) for v in vals]\n",
    "\n",
    "\n",
    "# freqs(L)\n",
    "#   Make a sorted counts dictionary for a list of values.\n",
    "def freqs(L):\n",
    "\n",
    "    S = sorted(L)\n",
    "    T = sorted(list(set(S)))\n",
    "    C = [S.count(t) for t in T]\n",
    "\n",
    "    return dict(zip(T, C))\n"
   ]
  },
  {
   "cell_type": "code",
   "execution_count": 4,
   "id": "467a41ee-5f71-4184-8eac-8f5076931343",
   "metadata": {},
   "outputs": [
    {
     "data": {
      "text/plain": [
       "250"
      ]
     },
     "execution_count": 4,
     "metadata": {},
     "output_type": "execute_result"
    }
   ],
   "source": [
    "sum_excounts = sum(excounts)\n",
    "sum_excounts"
   ]
  },
  {
   "cell_type": "code",
   "execution_count": 10,
   "id": "3442c315-51bf-433e-adc0-660ea11671f2",
   "metadata": {},
   "outputs": [],
   "source": [
    "n_samples = 20000\n",
    "balls_indices = rndints(n_samples, 0, sum_excounts-1) # -1 because index is 0-based"
   ]
  },
  {
   "cell_type": "code",
   "execution_count": 11,
   "id": "ac6e9f22-174f-4480-a746-b531958e172a",
   "metadata": {},
   "outputs": [],
   "source": [
    "# count-bins flipping/sampling algorithm\n",
    "samples = []\n",
    "for ball_index in balls_indices: # this is our samples\n",
    "    acc = 0 # accumulation\n",
    "    for excat, excount in zip(excats, excounts): # to list of tuples, and then again exploded into the two variables\n",
    "        acc = acc + excount # accumulation to determine the bin it falls into\n",
    "        if ball_index < acc: # determination\n",
    "            samples.append(excat) # add sample to list of samples\n",
    "            break # break inner loop and proces next ball index"
   ]
  },
  {
   "cell_type": "code",
   "execution_count": 21,
   "id": "03509f09-70a2-4b41-98f0-b4d06ca4a8a8",
   "metadata": {},
   "outputs": [],
   "source": [
    "# count the samples by category and make the dictionary of this\n",
    "sampled_counts_dict = {cat: 0 for cat in excats}\n",
    "for sample in samples:\n",
    "    sampled_counts_dict[sample] += 1"
   ]
  },
  {
   "cell_type": "code",
   "execution_count": 22,
   "id": "9cd0ff65-ee8b-45c8-aeef-a6333b185599",
   "metadata": {},
   "outputs": [
    {
     "data": {
      "text/plain": [
       "{150: 787, 160: 1585, 170: 4765, 180: 5632, 190: 4843, 200: 1578, 210: 810}"
      ]
     },
     "execution_count": 22,
     "metadata": {},
     "output_type": "execute_result"
    }
   ],
   "source": [
    "sampled_counts_dict"
   ]
  },
  {
   "cell_type": "code",
   "execution_count": 26,
   "id": "27a364a2-f03f-4b96-8e09-1f5fa67c0edf",
   "metadata": {},
   "outputs": [
    {
     "data": {
      "text/plain": [
       "[787, 1585, 4765, 5632, 4843, 1578, 810]"
      ]
     },
     "execution_count": 26,
     "metadata": {},
     "output_type": "execute_result"
    }
   ],
   "source": [
    "# data format into a list (without categories stated here) because plt.bar doesn't like dictionaries\n",
    "sampled_counts_list = [sampled_counts_dict[cat] for cat in excats]\n",
    "sampled_counts_list"
   ]
  },
  {
   "cell_type": "code",
   "execution_count": 28,
   "id": "466e6475-d205-4134-aad5-a43555569ca4",
   "metadata": {},
   "outputs": [
    {
     "data": {
      "text/plain": [
       "<BarContainer object of 7 artists>"
      ]
     },
     "execution_count": 28,
     "metadata": {},
     "output_type": "execute_result"
    },
    {
     "data": {
      "image/png": "[encoded data removed]",
      "text/plain": [
       "<Figure size 640x480 with 1 Axes>"
      ]
     },
     "metadata": {},
     "output_type": "display_data"
    }
   ],
   "source": [
    "plt.bar(excats, sampled_counts_list) # first argument is x axis (categories) and second argument is y axis (counts of category)"
   ]
  },
  {
   "cell_type": "code",
   "execution_count": null,
   "id": "01d40cc0-9bbf-464b-af8a-07b9324df2bd",
   "metadata": {},
   "outputs": [],
   "source": []
  }
 ],
 "metadata": {
  "kernelspec": {
   "display_name": "Python 3 (ipykernel)",
   "language": "python",
   "name": "python3"
  },
  "language_info": {
   "codemirror_mode": {
    "name": "ipython",
    "version": 3
   },
   "file_extension": ".py",
   "mimetype": "text/x-python",
   "name": "python",
   "nbconvert_exporter": "python",
   "pygments_lexer": "ipython3",
   "version": "3.12.7"
  }
 },
 "nbformat": 4,
 "nbformat_minor": 5
}
